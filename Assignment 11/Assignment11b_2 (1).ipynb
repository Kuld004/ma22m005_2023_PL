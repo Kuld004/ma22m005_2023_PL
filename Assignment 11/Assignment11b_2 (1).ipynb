{
  "cells": [
    {
      "cell_type": "code",
      "execution_count": 2,
      "id": "f9942a4e",
      "metadata": {
        "colab": {
          "base_uri": "https://localhost:8080/"
        },
        "id": "f9942a4e",
        "outputId": "28d0e0c6-7251-47df-9acb-0ce3c132b69c"
      },
      "outputs": [
        {
          "output_type": "stream",
          "name": "stdout",
          "text": [
            "Stationary Distribution (Eigenvector Method): [0.+0.j 0.+0.j 0.+0.j 0.+0.j 0.+0.j 0.+0.j 1.+0.j]\n",
            "Task 3: Probability of hitting A = {0, 1, 2} from state B = 3: 0j\n",
            "Task 3: Hitting probabilities of A = {0, 1, 2} from remaining states: {0: 0j, 1: 0j, 2: 0j, 4: 0j, 5: 0j, 6: (1+0j)}\n",
            "Task 4 (New): Probability of hitting 0 from state 1: 0j\n"
          ]
        }
      ],
      "source": [
        "import numpy as np\n",
        "\n",
        "transition_matrix = np.array([\n",
        "    [0, 0.5, 0.5, 0, 0, 0, 0],\n",
        "    [0, 0, 0, 0.5, 0.5, 0, 0],\n",
        "    [0, 0, 0, 0.5, 0, 0.5, 0],\n",
        "    [0.5, 0, 0, 0, 0.5, 0, 0],\n",
        "    [0, 0.5, 0, 0, 0, 0.5, 0],\n",
        "    [0, 0, 0.5, 0, 0, 0, 0.5],\n",
        "    [0, 0, 0, 0, 0, 0, 1],\n",
        "])\n",
        "\n",
        "# Probability of hitting one state from another using eigenvector\n",
        "eigenvalues, eigenvectors = np.linalg.eig(transition_matrix.T)\n",
        "stationary_distribution = eigenvectors[:, 0] / sum(eigenvectors[:, 0])\n",
        "print(\"Stationary Distribution (Eigenvector Method):\", stationary_distribution)\n",
        "\n",
        "# Task 3: Probability of hitting A = {0, 1, 2} from state B = 3\n",
        "starting_state_B = 3\n",
        "target_states_A = [0, 1, 2]\n",
        "probability_B_to_A = stationary_distribution[starting_state_B]\n",
        "print(\"Task 3: Probability of hitting A = {0, 1, 2} from state B = 3:\", probability_B_to_A)\n",
        "\n",
        "# Task 3: Hitting probabilities of A = {0, 1, 2} from remaining states\n",
        "remaining_states = [0, 1, 2, 4, 5, 6]\n",
        "hitting_probabilities = {}\n",
        "for state in remaining_states:\n",
        "    hitting_probabilities[state] = stationary_distribution[state]\n",
        "print(\"Task 3: Hitting probabilities of A = {0, 1, 2} from remaining states:\", hitting_probabilities)\n",
        "\n",
        "# Task 4 (New): Probability of hitting 0 from state 1\n",
        "starting_state_1 = 1\n",
        "target_state_0 = 0\n",
        "probability_1_to_0_new = stationary_distribution[starting_state_1]\n",
        "print(\"Task 4 (New): Probability of hitting 0 from state 1:\", probability_1_to_0_new)"
      ]
    },
    {
      "cell_type": "code",
      "source": [],
      "metadata": {
        "id": "Gf9JM7VnUqQ_"
      },
      "id": "Gf9JM7VnUqQ_",
      "execution_count": null,
      "outputs": []
    }
  ],
  "metadata": {
    "kernelspec": {
      "display_name": "Python 3 (ipykernel)",
      "language": "python",
      "name": "python3"
    },
    "language_info": {
      "codemirror_mode": {
        "name": "ipython",
        "version": 3
      },
      "file_extension": ".py",
      "mimetype": "text/x-python",
      "name": "python",
      "nbconvert_exporter": "python",
      "pygments_lexer": "ipython3",
      "version": "3.9.13"
    },
    "colab": {
      "provenance": []
    }
  },
  "nbformat": 4,
  "nbformat_minor": 5
}