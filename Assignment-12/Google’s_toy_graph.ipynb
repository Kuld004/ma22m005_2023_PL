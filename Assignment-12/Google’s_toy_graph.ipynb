{
  "nbformat": 4,
  "nbformat_minor": 0,
  "metadata": {
    "colab": {
      "provenance": []
    },
    "kernelspec": {
      "name": "python3",
      "display_name": "Python 3"
    },
    "language_info": {
      "name": "python"
    }
  },
  "cells": [
    {
      "cell_type": "code",
      "source": [
        "import os\n",
        "import urllib.request\n",
        "import shutil\n",
        "import gzip\n",
        "import numpy as np\n",
        "from scipy.sparse import csr_matrix\n",
        "from scipy.sparse.linalg import eigs"
      ],
      "metadata": {
        "id": "6w28GlLD1GUL"
      },
      "execution_count": 2,
      "outputs": []
    },
    {
      "cell_type": "markdown",
      "source": [
        "# Task:\n",
        " Setting restart probability r = 1 − 0.85, compute the pageranks of all vertices on this graph. Reuse the power method function you wrote in Exercise: Power method for large graphs."
      ],
      "metadata": {
        "id": "8epUFaMv3YYJ"
      }
    },
    {
      "cell_type": "code",
      "source": [
        "\n",
        "# The URL where the file is located\n",
        "url = \"https://snap.stanford.edu/data/web-Google.txt.gz\"\n",
        "\n",
        "# The local path where the file will be saved\n",
        "file_path = \"web-Google.txt.gz\"\n",
        "\n",
        "# Function to download the file\n",
        "def download_file(url, file_path):\n",
        "    if not os.path.exists(file_path):\n",
        "        with urllib.request.urlopen(url) as response, open(file_path, 'wb') as out_file:\n",
        "            shutil.copyfileobj(response, out_file)\n",
        "    else:\n",
        "        print(\"File already exists.\")\n",
        "\n"
      ],
      "metadata": {
        "id": "OwFRHbPK2gO5"
      },
      "execution_count": 8,
      "outputs": []
    },
    {
      "cell_type": "code",
      "source": [
        "# Function to parse the graph and create a sparse matrix\n",
        "def parse_graph(file_path):\n",
        "    print(\"Parsing the graph...\")\n",
        "    with gzip.open(file_path, 'rt') as file:\n",
        "        edges = []\n",
        "        nodes = set()\n",
        "        for line in file:\n",
        "            if line.startswith('#'):\n",
        "                continue\n",
        "            from_node, to_node = map(int, line.split())\n",
        "            edges.append((from_node, to_node))\n",
        "            nodes.update([from_node, to_node])\n",
        "        # Create a sparse matrix from the edges\n",
        "        node_count = max(nodes) + 1\n",
        "        row_indices, col_indices = zip(*edges)\n",
        "        data = np.ones(len(edges))\n",
        "        return csr_matrix((data, (row_indices, col_indices)), shape=(node_count, node_count))\n",
        "\n"
      ],
      "metadata": {
        "id": "c0arir1D2ttq"
      },
      "execution_count": 10,
      "outputs": []
    },
    {
      "cell_type": "code",
      "source": [
        "# Function to apply the power method to a stochastic matrix\n",
        "def power_method(P, r=0.85, max_iter=1000, tol=1e-10):\n",
        "    N = P.shape[0]\n",
        "    x = np.random.rand(N)\n",
        "    x /= np.sum(x)  # Normalize to make it a probability vector\n",
        "\n",
        "    # Convert the matrix to a stochastic matrix (column sums to 1)\n",
        "    P = P.multiply(1 / P.sum(axis=0))\n",
        "\n",
        "    for i in range(max_iter):\n",
        "        x_next = r * P.dot(x) + (1 - r) / N\n",
        "        # Check for convergence\n",
        "        if np.linalg.norm(x_next - x, 1) < tol:\n",
        "            break\n",
        "        x = x_next\n",
        "\n",
        "    return x / np.sum(x)  # Return the normalized eigenvector\n",
        "\n",
        "# Download the file\n",
        "download_file(url, file_path)\n",
        "\n",
        "# Parse the graph and create a sparse matrix\n",
        "graph = parse_graph(file_path)\n",
        "\n",
        "# Compute the pagerank using the power method\n",
        "pageranks = power_method(graph)\n",
        "print(pageranks)\n"
      ],
      "metadata": {
        "colab": {
          "base_uri": "https://localhost:8080/"
        },
        "id": "tR6RX-rY28ov",
        "outputId": "d2059d5b-769a-4cf5-903d-678dcf7cb9d2"
      },
      "execution_count": 11,
      "outputs": [
        {
          "output_type": "stream",
          "name": "stdout",
          "text": [
            "File already exists.\n",
            "Parsing the graph...\n"
          ]
        },
        {
          "output_type": "stream",
          "name": "stderr",
          "text": [
            "<ipython-input-11-2a6d1043d1a3>:8: RuntimeWarning: divide by zero encountered in divide\n",
            "  P = P.multiply(1 / P.sum(axis=0))\n"
          ]
        },
        {
          "output_type": "stream",
          "name": "stdout",
          "text": [
            "[7.84971203e-07 4.07969414e-07 5.04867544e-07 ... 1.17275881e-06\n",
            " 2.59725250e-07 2.06222833e-06]\n"
          ]
        }
      ]
    }
  ]
}