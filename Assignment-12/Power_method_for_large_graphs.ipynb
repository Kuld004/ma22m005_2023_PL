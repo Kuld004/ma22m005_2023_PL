{
  "nbformat": 4,
  "nbformat_minor": 0,
  "metadata": {
    "colab": {
      "provenance": []
    },
    "kernelspec": {
      "name": "python3",
      "display_name": "Python 3"
    },
    "language_info": {
      "name": "python"
    }
  },
  "cells": [
    {
      "cell_type": "code",
      "source": [
        "import numpy as np"
      ],
      "metadata": {
        "id": "4tpZthJWzLBO"
      },
      "execution_count": 7,
      "outputs": []
    },
    {
      "cell_type": "markdown",
      "source": [
        "# Task.1\n",
        " Compute the stationary distribution of the Markov chain from Gambler’s ruin with p = 0.4, N = 10. (Do this task with eig.) Do you get more than one stationary distribution"
      ],
      "metadata": {
        "id": "QJ9mBtixwy7z"
      }
    },
    {
      "cell_type": "code",
      "execution_count": 1,
      "metadata": {
        "colab": {
          "base_uri": "https://localhost:8080/"
        },
        "id": "bjkPHRatwfVU",
        "outputId": "a56d330e-e599-4481-e693-be10740b1d89"
      },
      "outputs": [
        {
          "output_type": "stream",
          "name": "stdout",
          "text": [
            "Stationary distribution: [0.5 0.  0.  0.  0.  0.  0.  0.  0.  0.  0.  0.  0.  0.  0.  0.  0.  0.\n",
            " 0.  0.  0.  0.5]\n"
          ]
        }
      ],
      "source": [
        "def compute_stationary_distribution_eig(P):\n",
        "    # Compute the eigenvalues and right eigenvectors\n",
        "    eigenvalues, eigenvectors = np.linalg.eig(P.T)\n",
        "    # Find the eigenvector corresponding to the eigenvalue 1\n",
        "    stationary = eigenvectors[:, np.isclose(eigenvalues, 1)]\n",
        "    # Normalize the eigenvector to get a probability distribution\n",
        "    stationary_distribution = stationary / stationary.sum()\n",
        "    return stationary_distribution.real.flatten()\n",
        "\n",
        "# Define the transition matrix for Gambler's ruin with p=0.4, N=10\n",
        "N = 10\n",
        "P = np.zeros((N+1, N+1))\n",
        "p = 0.4\n",
        "for i in range(1, N):\n",
        "    P[i, i-1] = 1 - p\n",
        "    P[i, i+1] = p\n",
        "# Boundary conditions\n",
        "P[0, 0] = 1\n",
        "P[N, N] = 1\n",
        "\n",
        "# Compute the stationary distribution\n",
        "stationary_distribution = compute_stationary_distribution_eig(P)\n",
        "print(\"Stationary distribution:\", stationary_distribution)\n"
      ]
    },
    {
      "cell_type": "markdown",
      "source": [
        "# Task.2\n",
        "Consider the adjacency matrix (independent of p) of the random walk and intro-\n",
        "duce a restart probability. Using it, compute the pagerank for all states of the Markov chain\n",
        "with N = 10 and restart probabilities r = 0.1, 0.01, 10^−3, and 10^−4"
      ],
      "metadata": {
        "id": "3C5PdQK0w3e5"
      }
    },
    {
      "cell_type": "code",
      "source": [
        "def compute_pagerank(P, r):\n",
        "    N = P.shape[0]\n",
        "    # Modify the transition matrix to include the restart probability\n",
        "    P_restart = (1 - r) * P + r / N * np.ones((N, N))\n",
        "    # Compute the stationary distribution using the eig function\n",
        "    return compute_stationary_distribution_eig(P_restart)\n",
        "\n",
        "# Example restart probabilities\n",
        "restart_probabilities = [0.01, 0.001, 10**-3, 10**-4]\n",
        "\n",
        "# Compute pagerank for each restart probability\n",
        "for r in restart_probabilities:\n",
        "    pagerank = compute_pagerank(P, r)\n",
        "    print(f\"Pagerank for restart probability {r}:\", pagerank)\n"
      ],
      "metadata": {
        "colab": {
          "base_uri": "https://localhost:8080/"
        },
        "id": "KtKDPiJ_w5SW",
        "outputId": "25414919-0e34-427a-9bfd-4d182faf9024"
      },
      "execution_count": 2,
      "outputs": [
        {
          "output_type": "stream",
          "name": "stdout",
          "text": [
            "Pagerank for restart probability 0.01: [0.65185161 0.00944348 0.01436765 0.01636186 0.01643633 0.01523222\n",
            " 0.01315547 0.01046198 0.00731199 0.00380464 0.24157278]\n",
            "Pagerank for restart probability 0.001: [7.32995114e-01 1.07121459e-03 1.63547797e-03 1.86271527e-03\n",
            " 1.86564761e-03 1.71904821e-03 1.47251641e-03 1.15895171e-03\n",
            " 8.00175279e-04 4.10659132e-04 2.55008480e-01]\n",
            "Pagerank for restart probability 0.001: [7.32995114e-01 1.07121459e-03 1.63547797e-03 1.86271527e-03\n",
            " 1.86564761e-03 1.71904821e-03 1.47251641e-03 1.15895171e-03\n",
            " 8.00175279e-04 4.10659132e-04 2.55008480e-01]\n",
            "Pagerank for restart probability 0.0001: [7.42270520e-01 1.08571095e-04 1.65816892e-04 1.88855365e-04\n",
            " 1.89092796e-04 1.74129571e-04 1.49030082e-04 1.17168899e-04\n",
            " 8.07946106e-05 4.14055216e-05 2.56514615e-01]\n"
          ]
        }
      ]
    },
    {
      "cell_type": "markdown",
      "source": [
        "# Task.3\n",
        "Compute the pagerank of the ruin state for r = 0.1, N = 1000. How much farther\n",
        "can you go increasing N in your computing environment, while continuing to use eig."
      ],
      "metadata": {
        "id": "O6ED-nK8xATY"
      }
    },
    {
      "cell_type": "code",
      "source": [
        "import numpy as np\n",
        "\n",
        "# Function to compute stationary distribution using eig\n",
        "def compute_stationary_distribution_eig(P):\n",
        "    # Compute the eigenvalues and right eigenvectors\n",
        "    eigenvalues, eigenvectors = np.linalg.eig(P.T)\n",
        "    # Find the eigenvector corresponding to the eigenvalue 1\n",
        "    stationary = eigenvectors[:, np.isclose(eigenvalues, 1)]\n",
        "    # Normalize the eigenvector to get a probability distribution\n",
        "    stationary_distribution = stationary / stationary.sum()\n",
        "    return stationary_distribution.real.flatten()\n",
        "\n",
        "# Function to compute pagerank for large N using eig\n",
        "def compute_pagerank_large_N(N, r):\n",
        "    # Define the transition matrix for a large N\n",
        "    P = np.zeros((N+1, N+1))\n",
        "    p = 0.4\n",
        "    for i in range(1, N):\n",
        "        P[i, i-1] = 1 - p\n",
        "        P[i, i+1] = p\n",
        "    # Boundary conditions\n",
        "    P[0, 0] = 1\n",
        "    P[N, N] = 1\n",
        "\n",
        "    # Compute pagerank with restart probability r\n",
        "    return compute_pagerank(P, r)\n",
        "\n",
        "# Function to modify the transition matrix and compute pagerank using eig\n",
        "def compute_pagerank(P, r):\n",
        "    N = P.shape[0]\n",
        "    # Modify the transition matrix to include the restart probability\n",
        "    P_restart = (1 - r) * P + r / N * np.ones((N, N))\n",
        "    # Compute the stationary distribution using the eig function\n",
        "    return compute_stationary_distribution_eig(P_restart)\n",
        "\n",
        "# The input parameters for Task 3\n",
        "N_large = 1000  # Number of states in the Markov chain\n",
        "r_large = 0.1   # Restart probability\n",
        "\n",
        "# Compute the pagerank for the given input parameters\n",
        "pagerank_large_N = compute_pagerank_large_N(N_large, r_large)\n",
        "print(f\"Pagerank for N={N_large} and r={r_large}:\", pagerank_large_N)\n"
      ],
      "metadata": {
        "colab": {
          "base_uri": "https://localhost:8080/"
        },
        "id": "h32DQDcIy-lk",
        "outputId": "5b21451e-ed73-4834-dc68-b4123f40b677"
      },
      "execution_count": 6,
      "outputs": [
        {
          "output_type": "stream",
          "name": "stdout",
          "text": [
            "Pagerank for N=1000 and r=0.1: [0.00375421 0.00051022 0.00075986 ... 0.00046093 0.00026584 0.00195601]\n"
          ]
        }
      ]
    },
    {
      "cell_type": "markdown",
      "source": [
        "# Task.4\n",
        " Implement the power method for a positive stochastic matrix P as a python func-\n",
        "tion, with the inputs indicated below."
      ],
      "metadata": {
        "id": "Y8bGdATzxTVX"
      }
    },
    {
      "cell_type": "code",
      "source": [
        "def power_method(P, x=None, r=0.1, max_iter=1000, tol=1e-10):\n",
        "    N = P.shape[0]\n",
        "    if x is None:\n",
        "        x = np.random.rand(N)\n",
        "        x /= np.sum(x)  # Normalize to make it a probability vector\n",
        "\n",
        "    P = (1 - r) * P + r / N * np.ones((N, N))  # Restart probability\n",
        "\n",
        "    for i in range(max_iter):\n",
        "        x_next = P @ x\n",
        "        # Check for convergence\n",
        "        if np.linalg.norm(x_next - x, 1) < tol:\n",
        "            break\n",
        "        x = x_next\n",
        "\n",
        "    return x / np.sum(x)  # Return the normalized eigenvector\n",
        "\n",
        "# Example usage of the power method:\n",
        "initial_x = np.random.rand(N+1)\n",
        "initial_x /= np.sum(initial_x)\n",
        "pagerank_power_method = power_method(P, initial_x)\n",
        "print(\"Pagerank using the power method:\", pagerank_power_method)\n"
      ],
      "metadata": {
        "colab": {
          "base_uri": "https://localhost:8080/"
        },
        "id": "JbDmsRsBxVHj",
        "outputId": "c15f8ef6-5de5-4357-87d6-599e7305fcc5"
      },
      "execution_count": 5,
      "outputs": [
        {
          "output_type": "stream",
          "name": "stdout",
          "text": [
            "Pagerank using the power method: [0.09090909 0.09090909 0.09090909 0.09090909 0.09090909 0.09090909\n",
            " 0.09090909 0.09090909 0.09090909 0.09090909 0.09090909]\n"
          ]
        }
      ]
    }
  ]
}