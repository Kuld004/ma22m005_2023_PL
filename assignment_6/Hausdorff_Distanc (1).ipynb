{
  "nbformat": 4,
  "nbformat_minor": 0,
  "metadata": {
    "colab": {
      "provenance": []
    },
    "kernelspec": {
      "name": "python3",
      "display_name": "Python 3"
    },
    "language_info": {
      "name": "python"
    }
  },
  "cells": [
    {
      "cell_type": "code",
      "source": [
        "import numpy as np\n",
        "P = np.random.rand(5, 2)\n",
        "Q = np.random.rand(7, 2)"
      ],
      "metadata": {
        "id": "On_g1xTeD8am"
      },
      "execution_count": 36,
      "outputs": []
    },
    {
      "cell_type": "code",
      "execution_count": 37,
      "metadata": {
        "id": "MdVv-gZ4DQ00"
      },
      "outputs": [],
      "source": [
        "\n",
        "\n",
        "# Function to calculate the Euclidean distance between two points in R^2\n",
        "def euclidean_distance(p, q):\n",
        "    return np.sqrt(np.sum((p - q) ** 2))\n",
        "\n",
        "# Function to calculate the directed Hausdorff distance from P to Q\n",
        "def directed_hausdorff_distance(P, Q):\n",
        "    max_distance = 0.0\n",
        "    for p in P:\n",
        "        min_distance = np.inf\n",
        "        for q in Q:\n",
        "            distance = euclidean_distance(p, q)\n",
        "            if distance < min_distance:\n",
        "                min_distance = distance\n",
        "        if min_distance > max_distance:\n",
        "            max_distance = min_distance\n",
        "    return max_distance\n",
        "\n",
        "# Function to compute the Hausdorff distance between sets P and Q\n",
        "def hausdorff_distance(P, Q):\n",
        "    h_P_to_Q = directed_hausdorff_distance(P, Q)\n",
        "    h_Q_to_P = directed_hausdorff_distance(Q, P)\n",
        "    return max(h_P_to_Q, h_Q_to_P)\n",
        "\n",
        "\n"
      ]
    },
    {
      "cell_type": "code",
      "source": [],
      "metadata": {
        "id": "_fZC17W6EmY1"
      },
      "execution_count": 19,
      "outputs": []
    },
    {
      "cell_type": "code",
      "source": [
        "\n",
        "\n",
        "result = hausdorff_distance(P, Q)\n",
        "print(\"Hausdorff Distance:\", result)"
      ],
      "metadata": {
        "colab": {
          "base_uri": "https://localhost:8080/"
        },
        "id": "T2bv7hgOEF5o",
        "outputId": "4bb85086-0260-43d1-946e-3b3b49d61e52"
      },
      "execution_count": 38,
      "outputs": [
        {
          "output_type": "stream",
          "name": "stdout",
          "text": [
            "Hausdorff Distance: 0.4299920251034663\n"
          ]
        }
      ]
    }
  ]
}