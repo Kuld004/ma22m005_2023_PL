{
  "nbformat": 4,
  "nbformat_minor": 0,
  "metadata": {
    "colab": {
      "provenance": []
    },
    "kernelspec": {
      "name": "python3",
      "display_name": "Python 3"
    },
    "language_info": {
      "name": "python"
    }
  },
  "cells": [
    {
      "cell_type": "code",
      "execution_count": 1,
      "metadata": {
        "id": "eB3itSCkrXMN"
      },
      "outputs": [],
      "source": [
        "import math\n",
        "\n",
        "def bisection(f, a, b, eps, max_iterations):\n",
        "    if f(a) * f(b) >= 0:\n",
        "        raise ValueError(\"Function f(x) must change sign between a and b.\")\n",
        "\n",
        "    for n in range(max_iterations):\n",
        "        m = (a + b) / 2\n",
        "        fm = f(m)\n",
        "\n",
        "        if abs(fm) <= eps:\n",
        "            return m\n",
        "\n",
        "        if f(a) * fm < 0:\n",
        "            b = m\n",
        "        else:\n",
        "            a = m\n",
        "\n",
        "    return m\n",
        "\n",
        "\n"
      ]
    },
    {
      "cell_type": "code",
      "source": [
        "# Define the function f(x)\n",
        "def f(x):\n",
        "    return x - 1 - math.cos(x)\n",
        "\n"
      ],
      "metadata": {
        "id": "idJyP30nrdwo"
      },
      "execution_count": 2,
      "outputs": []
    },
    {
      "cell_type": "code",
      "source": [
        "\n",
        "\n",
        "# Initial interval [a, b] where f(x) changes sign\n",
        "a = 0.5\n",
        "b = 1.5\n",
        "\n"
      ],
      "metadata": {
        "id": "Uylkj6OZrntS"
      },
      "execution_count": 3,
      "outputs": []
    },
    {
      "cell_type": "code",
      "source": [
        "\n",
        "# Tolerance for the root approximation\n",
        "epsilon = 1e-6\n"
      ],
      "metadata": {
        "id": "GfcslYwartDJ"
      },
      "execution_count": 5,
      "outputs": []
    },
    {
      "cell_type": "code",
      "source": [
        "# Maximum number of iterations\n",
        "max_iterations = 100\n",
        "\n",
        "# Find the approximate root using bisection method\n",
        "approx_root = bisection(f, a, b, epsilon, max_iterations)\n",
        "\n",
        "print(\"Approximate root:\", approx_root)\n",
        "print(\"f(approx_root) =\", f(approx_root))"
      ],
      "metadata": {
        "colab": {
          "base_uri": "https://localhost:8080/"
        },
        "id": "_vUxqUVTrzqx",
        "outputId": "2f1aaed2-cf35-425b-d313-adae16782bfe"
      },
      "execution_count": 6,
      "outputs": [
        {
          "output_type": "stream",
          "name": "stdout",
          "text": [
            "Approximate root: 1.2834291458129883\n",
            "f(approx_root) = 7.915650054313161e-07\n"
          ]
        }
      ]
    },
    {
      "cell_type": "code",
      "source": [],
      "metadata": {
        "id": "1clBwOKbr57l"
      },
      "execution_count": null,
      "outputs": []
    }
  ]
}