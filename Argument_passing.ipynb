{
  "nbformat": 4,
  "nbformat_minor": 0,
  "metadata": {
    "colab": {
      "provenance": []
    },
    "kernelspec": {
      "name": "python3",
      "display_name": "Python 3"
    },
    "language_info": {
      "name": "python"
    }
  },
  "cells": [
    {
      "cell_type": "code",
      "source": [
        "import numpy as np\n",
        "\n",
        "def twice(w):\n",
        "    \"\"\"Replace w by 2*w\"\"\"\n",
        "    print(\"Inside_func - ID of w:\", id(w))\n",
        "    w *= 2"
      ],
      "metadata": {
        "id": "xapxs5dBPyKv"
      },
      "execution_count": null,
      "outputs": []
    },
    {
      "cell_type": "markdown",
      "source": [
        "# Case 1: v is a numpy array"
      ],
      "metadata": {
        "id": "XHHYs6U5SBmJ"
      }
    },
    {
      "cell_type": "code",
      "source": [
        "\n",
        "v1 = np.array([2, 5, 1])\n",
        "print(\"Outside_func - ID of v1:\", id(v1))\n",
        "twice(v1)\n",
        "print(\"Outside_func - ID of v1 after function call:\", id(v1))"
      ],
      "metadata": {
        "colab": {
          "base_uri": "https://localhost:8080/"
        },
        "id": "bdnERgD5QPfb",
        "outputId": "7029d46f-6a0c-4179-983a-22a9a072f5e8"
      },
      "execution_count": null,
      "outputs": [
        {
          "output_type": "stream",
          "name": "stdout",
          "text": [
            "Outside_func - ID of v1: 134759585797424\n",
            "Inside function - ID of w: 134759585797424\n",
            "Outside_func - ID of v1 after function call: 134759585797424\n"
          ]
        }
      ]
    },
    {
      "cell_type": "code",
      "source": [],
      "metadata": {
        "id": "SrSMhszXRlC9"
      },
      "execution_count": null,
      "outputs": []
    },
    {
      "cell_type": "markdown",
      "source": [
        "\n",
        "# Case 2: v is a string"
      ],
      "metadata": {
        "id": "9lOkFHEaR9-q"
      }
    },
    {
      "cell_type": "code",
      "execution_count": null,
      "metadata": {
        "id": "7Dffh-auPrbu",
        "colab": {
          "base_uri": "https://localhost:8080/"
        },
        "outputId": "45fd6347-b03f-433b-8224-8c86362a52bf"
      },
      "outputs": [
        {
          "output_type": "stream",
          "name": "stdout",
          "text": [
            "Outside_func - ID of v2: 134759585970928\n",
            "Inside_func - ID of w: 134759585970928\n",
            "Outside_func - ID of v2 after function call: 134759585970928\n"
          ]
        }
      ],
      "source": [
        "\n",
        "v2 = \"Hello, World!\"\n",
        "print(\"Outside_func - ID of v2:\", id(v2))\n",
        "twice(v2)\n",
        "print(\"Outside_func - ID of v2 after function call:\", id(v2))\n"
      ]
    },
    {
      "cell_type": "code",
      "source": [],
      "metadata": {
        "id": "VbC2Pdv0QRrm"
      },
      "execution_count": null,
      "outputs": []
    },
    {
      "cell_type": "markdown",
      "source": [
        "**#Observation**\n",
        "\n",
        "\n",
        "In summary, for numpy arrays, no deep copy is made, and the original object is modified in place. For strings, a new object is created, but it is still a shallow copy, not a deep copy. Python's behavior depends on the mutability and immutability of the objects being passed to the function"
      ],
      "metadata": {
        "id": "g0TH2NEVSdEG"
      }
    }
  ]
}