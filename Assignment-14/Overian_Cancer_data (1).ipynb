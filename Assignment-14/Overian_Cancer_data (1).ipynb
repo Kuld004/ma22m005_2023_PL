{
  "nbformat": 4,
  "nbformat_minor": 0,
  "metadata": {
    "colab": {
      "provenance": []
    },
    "kernelspec": {
      "name": "python3",
      "display_name": "Python 3"
    },
    "language_info": {
      "name": "python"
    }
  },
  "cells": [
    {
      "cell_type": "code",
      "source": [
        "import numpy as np\n",
        "import matplotlib.pyplot as plt\n",
        "from mpl_toolkits.mplot3d import Axes3D\n",
        "from sklearn.decomposition import PCA"
      ],
      "metadata": {
        "id": "62fsQOJh7Ioa"
      },
      "execution_count": null,
      "outputs": []
    },
    {
      "cell_type": "code",
      "source": [
        "import numpy as np\n",
        "import matplotlib.pyplot as plt\n",
        "from mpl_toolkits.mplot3d import Axes3D\n",
        "from sklearn.decomposition import PCA\n",
        "\n",
        "# Load the data (replace 'path_to_file' with the actual path to the .npy file)\n",
        "X = np.load('path_to_file/ovariancancer.npy')\n",
        "\n",
        "# Task 1: PCA and 3D projection\n",
        "pca = PCA(n_components=3)\n",
        "X_pca = pca.fit_transform(X)\n",
        "\n",
        "# Create a 3D plot\n",
        "fig = plt.figure()\n",
        "ax = fig.add_subplot(111, projection='3d')\n",
        "ax.scatter(X_pca[:, 0], X_pca[:, 1], X_pca[:, 2])\n",
        "ax.set_title('First three PCA components')\n",
        "ax.set_xlabel('PC1')\n",
        "ax.set_ylabel('PC2')\n",
        "ax.set_zlabel('PC3')\n",
        "plt.show()\n",
        "\n",
        "# Task 2: Cumulative explained variance plot\n",
        "pca_full = PCA().fit(X)\n",
        "explained_variance = pca_full.explained_variance_ratio_\n",
        "cumulative_explained_variance = np.cumsum(explained_variance)\n",
        "\n",
        "# Plot the cumulative explained variance\n",
        "plt.figure()\n",
        "plt.plot(cumulative_explained_variance)\n",
        "plt.xlabel('Number of components')\n",
        "plt.ylabel('Cumulative explained variance')\n",
        "plt.title('Cumulative explained variance by PCA components')\n",
        "plt.show()\n",
        "\n",
        "# Percentage of variance lost when reducing from 4000 to 3 dimensions\n",
        "variance_lost = 1 - cumulative_explained_variance[2]\n",
        "print(f\"Percentage of variance lost: {variance_lost * 100:.2f}%\")\n",
        "\n",
        "# Number of dimensions needed to keep 95% of the variance\n",
        "components_95 = np.argmax(cumulative_explained_variance >= 0.95) + 1\n",
        "print(f\"Number of dimensions needed to keep 95% of the variance: {components_95}\")"
      ],
      "metadata": {
        "id": "gSvMoq5FEdtu"
      },
      "execution_count": null,
      "outputs": []
    }
  ]
}