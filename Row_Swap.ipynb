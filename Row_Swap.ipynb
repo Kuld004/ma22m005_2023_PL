{
  "nbformat": 4,
  "nbformat_minor": 0,
  "metadata": {
    "colab": {
      "provenance": []
    },
    "kernelspec": {
      "name": "python3",
      "display_name": "Python 3"
    },
    "language_info": {
      "name": "python"
    }
  },
  "cells": [
    {
      "cell_type": "code",
      "source": [
        "import numpy as np"
      ],
      "metadata": {
        "id": "-W7JP9DfdyNT"
      },
      "execution_count": 7,
      "outputs": []
    },
    {
      "cell_type": "code",
      "source": [
        "def swaprow(i, j, A):\n",
        "    tmp = A[i, :]\n",
        "    A[i, :] = A[j, :]\n",
        "    A[j, :] = tmp"
      ],
      "metadata": {
        "id": "xtbP7a85d2s1"
      },
      "execution_count": 8,
      "outputs": []
    },
    {
      "cell_type": "code",
      "source": [
        "# Example usage:\n",
        "# Create a sample NumPy array\n",
        "A = np.array([[1, 2, 3],\n",
        "              [4, 5, 6],\n",
        "              [7, 8, 9]])\n",
        "\n",
        "print(\"Original Array:\")\n",
        "print(A)"
      ],
      "metadata": {
        "colab": {
          "base_uri": "https://localhost:8080/"
        },
        "id": "ds4gjXLfeHJA",
        "outputId": "9f77e31a-bb7e-4f09-898e-f3802b5163cf"
      },
      "execution_count": 9,
      "outputs": [
        {
          "output_type": "stream",
          "name": "stdout",
          "text": [
            "Original Array:\n",
            "[[1 2 3]\n",
            " [4 5 6]\n",
            " [7 8 9]]\n"
          ]
        }
      ]
    },
    {
      "cell_type": "code",
      "execution_count": 10,
      "metadata": {
        "colab": {
          "base_uri": "https://localhost:8080/"
        },
        "id": "jhPHykUzad-g",
        "outputId": "e2a16962-4396-436b-c79c-8915b91933b8"
      },
      "outputs": [
        {
          "output_type": "stream",
          "name": "stdout",
          "text": [
            "\n",
            "Array after swapping rows 0 and 1:\n",
            "[[4 5 6]\n",
            " [4 5 6]\n",
            " [7 8 9]]\n"
          ]
        }
      ],
      "source": [
        "\n",
        "\n",
        "# Swap rows 0 and 1\n",
        "swaprow(0, 1, A)\n",
        "\n",
        "print(\"\\nArray after swapping rows 0 and 1:\")\n",
        "print(A)\n"
      ]
    },
    {
      "cell_type": "markdown",
      "source": [
        "#Here's an explanation of the improvements:\n",
        "\n",
        "#Efficiency:\n",
        " The original code used temporary storage (tmp) to store the contents of one row before swapping. In the improved version, we use advanced NumPy indexing (A[[i, j]]) to swap the rows directly. This avoids the need for a temporary variable and is more efficient because it takes advantage of NumPy's optimized array manipulation capabilities.\n",
        "\n",
        "#Brevity:\n",
        " The improved code is more concise and easier to read. It directly swaps the rows in a single line, making the code more compact and straightforward.\n",
        "\n",
        "#Correctness:\n",
        "The correctness of the code remains intact. It correctly swaps the rows i and j in the NumPy array A.\n",
        "\n",
        "Overall, the improved function is more efficient, more concise, and still correct in terms of functionality."
      ],
      "metadata": {
        "id": "bDLN0JZsem69"
      }
    },
    {
      "cell_type": "code",
      "source": [],
      "metadata": {
        "id": "xZqp6QddeZ9B"
      },
      "execution_count": null,
      "outputs": []
    }
  ]
}