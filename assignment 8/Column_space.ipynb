{
  "nbformat": 4,
  "nbformat_minor": 0,
  "metadata": {
    "colab": {
      "provenance": []
    },
    "kernelspec": {
      "name": "python3",
      "display_name": "Python 3"
    },
    "language_info": {
      "name": "python"
    }
  },
  "cells": [
    {
      "cell_type": "code",
      "source": [
        "import numpy as np\n",
        "import timeit\n",
        "from scipy.linalg import qr, svd"
      ],
      "metadata": {
        "id": "4fGAIgXLGHKw"
      },
      "execution_count": 13,
      "outputs": []
    },
    {
      "cell_type": "markdown",
      "source": [
        "#Task 1: You have seen that the SVD of an m × n matrix A gives, among other things,a basis for the range (column space). Compute this for the given matrix.\n"
      ],
      "metadata": {
        "id": "gFpV89hrGfCW"
      }
    },
    {
      "cell_type": "code",
      "source": [
        "# Define the matrix A\n",
        "A = np.array([[1, -2, 3, -3],\n",
        "              [2, -4, 9, -2],\n",
        "              [-3, 6, -9, 9]])"
      ],
      "metadata": {
        "id": "EjvNtzBDGLDy"
      },
      "execution_count": 2,
      "outputs": []
    },
    {
      "cell_type": "code",
      "source": [
        "# Compute the SVD of A\n",
        "U, S, Vt = svd(A)"
      ],
      "metadata": {
        "id": "Hqn89IMuGSjO"
      },
      "execution_count": 3,
      "outputs": []
    },
    {
      "cell_type": "code",
      "execution_count": 4,
      "metadata": {
        "colab": {
          "base_uri": "https://localhost:8080/"
        },
        "id": "TZyLA2hdGEOr",
        "outputId": "f085f8a5-47df-42e0-e71d-3203ef77f9ea"
      },
      "outputs": [
        {
          "output_type": "stream",
          "name": "stdout",
          "text": [
            "Basis for the column space (range) of A:\n",
            "[[ 0.26623586  0.17064134]\n",
            " [ 0.5396153  -0.84191171]\n",
            " [-0.79870758 -0.51192403]]\n"
          ]
        }
      ],
      "source": [
        "\n",
        "# Extract the columns of U corresponding to nonzero singular values\n",
        "nonzero_singular_values_indices = np.where(S > 1e-10)[0]\n",
        "column_basis = U[:, nonzero_singular_values_indices]\n",
        "\n",
        "# Display the basis for the column space\n",
        "print(\"Basis for the column space (range) of A:\")\n",
        "print(column_basis)\n"
      ]
    },
    {
      "cell_type": "code",
      "source": [
        "\n",
        "# Step 1: Compute the QR factorization of A\n",
        "Q, R = qr(A, mode='economic')\n",
        "\n",
        "# Step 2: Extract the columns of Q corresponding to the pivot columns of R\n",
        "# Find pivot columns by identifying nonzero elements on the diagonal of R\n",
        "pivot_columns = np.where(np.abs(np.diag(R)) > 1e-10)[0]\n",
        "column_basis_qr = Q[:, pivot_columns]\n",
        "\n",
        "# Step 3: Compute the SVD of A\n",
        "U, S, Vt = svd(A)\n",
        "\n",
        "# Step 4: Extract the columns of U corresponding to nonzero singular values\n",
        "nonzero_singular_values_indices = np.where(S > 1e-10)[0]\n",
        "column_basis_svd = U[:, nonzero_singular_values_indices]\n",
        "\n",
        "# Display the basis obtained using QR and SVD\n",
        "print(\"Basis for the column space (range) of A using QR:\")\n",
        "print(column_basis_qr)\n",
        "\n",
        "print(\"\\nBasis for the column space (range) of A using SVD:\")\n",
        "print(column_basis_svd)\n",
        "\n",
        "# Compare the two bases (they should be equivalent)\n",
        "if np.allclose(column_basis_qr, column_basis_svd):\n",
        "    print(\"\\nThe bases obtained using QR and SVD are equivalent.\")\n",
        "else:\n",
        "    print(\"\\nThe bases obtained using QR and SVD are not equivalent.\")\n"
      ],
      "metadata": {
        "colab": {
          "base_uri": "https://localhost:8080/"
        },
        "id": "Y-mWc9ZHItBq",
        "outputId": "d09ba310-4ee2-49f7-ef4b-4c0bff44dbeb"
      },
      "execution_count": 8,
      "outputs": [
        {
          "output_type": "stream",
          "name": "stdout",
          "text": [
            "Basis for the column space (range) of A using QR:\n",
            "[[-0.26726124 -0.11952286]\n",
            " [-0.53452248  0.84401323]\n",
            " [ 0.80178373  0.52283453]]\n",
            "\n",
            "Basis for the column space (range) of A using SVD:\n",
            "[[ 0.26623586  0.17064134]\n",
            " [ 0.5396153  -0.84191171]\n",
            " [-0.79870758 -0.51192403]]\n",
            "\n",
            "The bases obtained using QR and SVD are not equivalent.\n"
          ]
        }
      ]
    },
    {
      "cell_type": "markdown",
      "source": [
        "# Task 2: Check that the column spaces (not the bases) you obtained in the two ways are the same. (How would you check that two given bases span the same space?)\n"
      ],
      "metadata": {
        "id": "_aZfjd5ZJvX-"
      }
    },
    {
      "cell_type": "code",
      "source": [
        "\n",
        "# Step 5: Check if the column spaces are the same\n",
        "\n",
        "# Check if the column space spanned by column_basis_qr is also spanned by column_basis_svd\n",
        "qr_space_in_svd = np.all(np.isin(column_basis_qr, column_basis_svd))\n",
        "\n",
        "# Check if the column space spanned by column_basis_svd is also spanned by column_basis_qr\n",
        "svd_space_in_qr = np.all(np.isin(column_basis_svd, column_basis_qr))\n",
        "\n",
        "# Check if both checks are True (i.e., the column spaces are the same)\n",
        "if qr_space_in_svd and svd_space_in_qr:\n",
        "    print(\"The column spaces obtained using QR and SVD are the same.\")\n",
        "else:\n",
        "    print(\"The column spaces obtained using QR and SVD are not the same.\")\n"
      ],
      "metadata": {
        "colab": {
          "base_uri": "https://localhost:8080/"
        },
        "id": "n8M7D4TcJT-D",
        "outputId": "75117224-6aa4-4711-f810-20d9aa09f6bc"
      },
      "execution_count": 11,
      "outputs": [
        {
          "output_type": "stream",
          "name": "stdout",
          "text": [
            "The column spaces obtained using QR and SVD are not the same.\n"
          ]
        }
      ]
    },
    {
      "cell_type": "markdown",
      "source": [
        "# Task 3: For a 500 × 500 random matrix, which method is faster?"
      ],
      "metadata": {
        "id": "W1VSNbRIKjBT"
      }
    },
    {
      "cell_type": "code",
      "source": [
        "\n",
        "# Generate a random 500x500 matrix\n",
        "random_matrix = np.random.rand(500, 500)\n",
        "\n",
        "# Measure the execution time for the QR method\n",
        "qr_time = timeit.timeit(lambda: get_basis_qr(random_matrix), number=10)\n",
        "\n",
        "# Measure the execution time for the SVD method\n",
        "svd_time = timeit.timeit(lambda: get_basis_svd(random_matrix), number=10)\n",
        "\n",
        "# Compare the execution times\n",
        "if qr_time < svd_time:\n",
        "    print(\"QR method is faster.\")\n",
        "elif qr_time > svd_time:\n",
        "    print(\"SVD method is faster.\")\n",
        "else:\n",
        "    print(\"Both methods have similar execution times.\")\n"
      ],
      "metadata": {
        "colab": {
          "base_uri": "https://localhost:8080/"
        },
        "id": "rxZH-LrvJ8b7",
        "outputId": "3412bb71-4b7d-4d63-d43b-7d8b0a2ad3da"
      },
      "execution_count": 15,
      "outputs": [
        {
          "output_type": "stream",
          "name": "stdout",
          "text": [
            "QR method is faster.\n"
          ]
        }
      ]
    },
    {
      "cell_type": "markdown",
      "source": [],
      "metadata": {
        "id": "ZmrsklSYGqEa"
      }
    }
  ]
}