{
  "nbformat": 4,
  "nbformat_minor": 0,
  "metadata": {
    "colab": {
      "provenance": []
    },
    "kernelspec": {
      "name": "python3",
      "display_name": "Python 3"
    },
    "language_info": {
      "name": "python"
    }
  },
  "cells": [
    {
      "cell_type": "code",
      "source": [
        "import numpy as np\n",
        "from scipy.linalg import svd\n",
        "\n",
        "# Define the matrix A\n",
        "A = np.array([[1, -2, 9, 5, 4], [1, -1, 6, 5, -3], [-2, 0, -6, 1, -2], [4, 1, 9, 1, -9]])"
      ],
      "metadata": {
        "id": "8Rfm_72FLyV3"
      },
      "execution_count": 1,
      "outputs": []
    },
    {
      "cell_type": "markdown",
      "source": [
        "# Task 1: Find the null space of the given matrix A using SVD."
      ],
      "metadata": {
        "id": "PvguE4YVMQWk"
      }
    },
    {
      "cell_type": "code",
      "execution_count": 3,
      "metadata": {
        "colab": {
          "base_uri": "https://localhost:8080/"
        },
        "id": "crGgQ-DbLuzl",
        "outputId": "15985be4-5802-4d50-fbc0-63135f6375ff"
      },
      "outputs": [
        {
          "output_type": "stream",
          "name": "stdout",
          "text": [
            "Null Space Vector(s):\n",
            "[ 0.26466093  0.8870317  -0.08822031  0.32905504  0.16452752]\n"
          ]
        }
      ],
      "source": [
        "\n",
        "# Perform SVD\n",
        "U, S, Vt = svd(A)\n",
        "\n",
        "# Find the null space (kernel) of A\n",
        "null_space = Vt[-1, :]\n",
        "\n",
        "# Display the null space vector(s)\n",
        "print(\"Null Space Vector(s):\")\n",
        "print(null_space)\n"
      ]
    },
    {
      "cell_type": "markdown",
      "source": [
        "# Task 2: Find the null space of the same matrix A using the QR factorization. Use the linear algebra theorem that tells us that the null space of A is equal to the orthogonal complement of the range of the transpose At . (How would you extract the orthogonal complement from a full QR factorization?)\n"
      ],
      "metadata": {
        "id": "MQAEljYVMrF3"
      }
    },
    {
      "cell_type": "code",
      "source": [
        "\n",
        "\n",
        "# Perform QR factorization\n",
        "Q, R = qr(A.T, mode='economic')\n",
        "\n",
        "# Extract the orthogonal complement of the range of A^T\n",
        "null_space = Q[:, len(R):]\n",
        "\n",
        "# Display the null space vectors\n",
        "print(\"Null Space Vectors:\")\n",
        "print(null_space)\n"
      ],
      "metadata": {
        "colab": {
          "base_uri": "https://localhost:8080/"
        },
        "id": "mNXGssy4MhMF",
        "outputId": "b199930c-d879-4fa5-ff25-73b5e262897f"
      },
      "execution_count": 5,
      "outputs": [
        {
          "output_type": "stream",
          "name": "stdout",
          "text": [
            "Null Space Vectors:\n",
            "[]\n"
          ]
        }
      ]
    },
    {
      "cell_type": "markdown",
      "source": [
        "# Task 3: Check that both answers above span the same space."
      ],
      "metadata": {
        "id": "vkixtVbBN-HY"
      }
    },
    {
      "cell_type": "code",
      "source": [
        "\n",
        "# Task 1: Find the null space using SVD\n",
        "U_svd, S_svd, Vt_svd = svd(A)\n",
        "null_space_svd = Vt_svd[-1, :]\n",
        "\n",
        "# Task 2: Find the null space using QR factorization and orthogonal complement\n",
        "Q, R = qr(A.T, mode='economic')\n",
        "null_space_qr = Q[:, len(R):]\n",
        "\n",
        "# Check if both null spaces are non-empty and span the same space\n",
        "if null_space_svd.size == 0 or null_space_qr.size == 0:\n",
        "    print(\"One or both null spaces are empty.\")\n",
        "else:\n",
        "    span_svd = np.linalg.matrix_rank(null_space_svd)\n",
        "    span_qr = np.linalg.matrix_rank(null_space_qr)\n",
        "\n",
        "    if span_svd == span_qr:\n",
        "        print(\"The null spaces span the same space.\")\n",
        "    else:\n",
        "        print(\"The null spaces do not span the same space.\")\n"
      ],
      "metadata": {
        "colab": {
          "base_uri": "https://localhost:8080/"
        },
        "id": "8jrIrrDrNrix",
        "outputId": "33742b7f-1761-42ec-aba6-925bc008ba7c"
      },
      "execution_count": 9,
      "outputs": [
        {
          "output_type": "stream",
          "name": "stdout",
          "text": [
            "One or both null spaces are empty.\n"
          ]
        }
      ]
    }
  ]
}